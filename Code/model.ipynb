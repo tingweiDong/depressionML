{
 "cells": [
  {
   "cell_type": "code",
   "execution_count": 18,
   "metadata": {},
   "outputs": [],
   "source": [
    "import pandas as pd \n",
    "import numpy as np\n",
    "import seaborn as sns\n",
    "\n",
    "%matplotlib inline\n",
    "import matplotlib as mpl \n",
    "import matplotlib.pyplot as plt\n",
    "\n",
    "from sklearn.model_selection import train_test_split \n",
    "from sklearn.metrics import roc_curve\n",
    "from numpy import sqrt\n",
    "from numpy import argmax"
   ]
  },
  {
   "cell_type": "code",
   "execution_count": 19,
   "metadata": {},
   "outputs": [],
   "source": [
    "df = pd.read_csv(\"../Data/project_data.csv\")\n",
    "\n",
    "# Dropping redundant features\n",
    "df = df.iloc[: , 1:]\n",
    "df = df.iloc[: , 1:]"
   ]
  },
  {
   "cell_type": "code",
   "execution_count": 20,
   "metadata": {},
   "outputs": [],
   "source": [
    "#df['result'] = df.result.astype(object)\n",
    "df['gender'] = df.gender.astype(object)\n",
    "df['race'] = df.race.astype(object)\n",
    "df['marital_status'] = df.marital_status.astype(object)\n",
    "df['education_level_adults'] = df.education_level_adults.astype(object)\n",
    "\n",
    "df['language'] = df.language.astype(object)\n",
    "df['trouble_sleeping_history'] = df.trouble_sleeping_history.astype(object)\n",
    "df['SMQ020'] = df.SMQ020.astype(object)\n",
    "df['SMQ040'] = df.SMQ040.astype(object)\n",
    "df['SMQ670'] = df.SMQ670.astype(object)\n",
    "df['WHQ030'] = df.WHQ030.astype(object)\n",
    "\n",
    "\n",
    "df['WHQ040'] = df.WHQ040.astype(object)\n",
    "df['WHQ070'] = df.WHQ070.astype(object)"
   ]
  },
  {
   "cell_type": "code",
   "execution_count": 21,
   "metadata": {},
   "outputs": [],
   "source": [
    "train_set, test_set = train_test_split(df, test_size=0.3, random_state=0, stratify=df[\"result\"])"
   ]
  },
  {
   "cell_type": "code",
   "execution_count": 22,
   "metadata": {},
   "outputs": [],
   "source": [
    "X_train = train_set.drop(\"result\", axis=1) \n",
    "y_train = train_set[\"result\"].copy()\n",
    "\n",
    "X_test = test_set.drop(\"result\", axis=1) \n",
    "y_test = test_set[\"result\"].copy()"
   ]
  },
  {
   "cell_type": "code",
   "execution_count": 23,
   "metadata": {},
   "outputs": [
    {
     "data": {
      "text/plain": [
       "array([0, 1])"
      ]
     },
     "execution_count": 23,
     "metadata": {},
     "output_type": "execute_result"
    }
   ],
   "source": [
    "y_train.unique()"
   ]
  },
  {
   "cell_type": "markdown",
   "metadata": {},
   "source": [
    "# Data Preprocessing"
   ]
  },
  {
   "cell_type": "code",
   "execution_count": 24,
   "metadata": {},
   "outputs": [],
   "source": [
    "from sklearn.impute import SimpleImputer\n",
    "from sklearn.preprocessing import OrdinalEncoder, OneHotEncoder, MinMaxScaler, StandardScaler \n",
    "from sklearn.compose import ColumnTransformer\n",
    "from sklearn.pipeline import Pipeline"
   ]
  },
  {
   "cell_type": "code",
   "execution_count": 25,
   "metadata": {},
   "outputs": [],
   "source": [
    "num_pipeline = Pipeline([(\"imputer\", SimpleImputer(strategy=\"median\")), (\"scaler\", StandardScaler())])\n",
    "cat_pipeline = Pipeline([(\"imputer\", SimpleImputer(strategy=\"most_frequent\")), (\"onehot\", OneHotEncoder())])"
   ]
  },
  {
   "cell_type": "code",
   "execution_count": 26,
   "metadata": {},
   "outputs": [],
   "source": [
    "num_attribs=[\"age\",\"family_PIR\",\"sleep_hours\",\"drinks_per_occasion\",\"SMD030\",\"SMD641\",\"SMD650\",\"SMD630\",\"WHD010\",\"WHD020\",\n",
    "\"WHD050\",\"WHD110\",\"WHD120\",\"WHD140\",\"WHQ150\"]\n",
    "\n",
    "cat_attribs=[\"gender\",\"race\",\"marital_status\",\"education_level_adults\",\"language\",\"trouble_sleeping_history\",\"SMQ020\",\n",
    "\"SMQ040\",\"SMQ670\",\"WHQ030\",\"WHQ040\",\"WHQ070\"] \n",
    "\n",
    "col_transform = ColumnTransformer([(\"num\", num_pipeline, num_attribs), (\"cat\", cat_pipeline, cat_attribs)])"
   ]
  },
  {
   "cell_type": "markdown",
   "metadata": {},
   "source": [
    "# Evaluate Several Machine Learning Models"
   ]
  },
  {
   "cell_type": "code",
   "execution_count": 27,
   "metadata": {},
   "outputs": [],
   "source": [
    "from sklearn.neighbors import KNeighborsClassifier\n",
    "from sklearn.ensemble import RandomForestClassifier\n",
    "from sklearn.model_selection import RepeatedStratifiedKFold, cross_val_score"
   ]
  },
  {
   "cell_type": "code",
   "execution_count": 28,
   "metadata": {},
   "outputs": [],
   "source": [
    "k_folds = RepeatedStratifiedKFold(n_splits=5, n_repeats=3, random_state=0)"
   ]
  },
  {
   "cell_type": "code",
   "execution_count": 29,
   "metadata": {},
   "outputs": [
    {
     "name": "stdout",
     "output_type": "stream",
     "text": [
      "0.8447106457336079 0.0029068806969251666\n"
     ]
    }
   ],
   "source": [
    "knn_model = Pipeline([(\"transformer\", col_transform), (\"classifier\", KNeighborsClassifier())])\n",
    "knn_scores = cross_val_score(knn_model, X_train, y_train, cv=k_folds)\n",
    "print(knn_scores.mean(), knn_scores.std())"
   ]
  },
  {
   "cell_type": "code",
   "execution_count": 33,
   "metadata": {},
   "outputs": [
    {
     "name": "stdout",
     "output_type": "stream",
     "text": [
      "0.8546759185727834 0.0019324358605260579\n"
     ]
    }
   ],
   "source": [
    "rf_model = Pipeline([(\"transformer\", col_transform), (\"classifier\", RandomForestClassifier(random_state=0))])\n",
    "rf_scores = cross_val_score(rf_model, X_train, y_train, cv=k_folds)\n",
    "print(rf_scores.mean(), rf_scores.std())"
   ]
  },
  {
   "cell_type": "markdown",
   "metadata": {},
   "source": [
    "## Feature Selection"
   ]
  },
  {
   "cell_type": "code",
   "execution_count": 34,
   "metadata": {},
   "outputs": [],
   "source": [
    "from sklearn.feature_selection import SelectKBest, f_classif"
   ]
  },
  {
   "cell_type": "code",
   "execution_count": 52,
   "metadata": {},
   "outputs": [
    {
     "name": "stdout",
     "output_type": "stream",
     "text": [
      "0.8361486727972386 0.004862116801432051\n"
     ]
    }
   ],
   "source": [
    "knn_k_best = Pipeline([(\"transformer\", col_transform), \n",
    "                         (\"selector\", SelectKBest(f_classif, k=5)),\n",
    "                         (\"classfier\", KNeighborsClassifier()) ])\n",
    "\n",
    "knn_k_best_scores = cross_val_score(knn_k_best, X_train, y_train, cv=k_folds)\n",
    "print(knn_k_best_scores.mean(), knn_k_best_scores.std())"
   ]
  },
  {
   "cell_type": "code",
   "execution_count": 53,
   "metadata": {},
   "outputs": [
    {
     "name": "stderr",
     "output_type": "stream",
     "text": [
      "/Users/viviandong/opt/anaconda3/lib/python3.7/site-packages/sklearn/svm/_base.py:977: ConvergenceWarning: Liblinear failed to converge, increase the number of iterations.\n",
      "  \"the number of iterations.\", ConvergenceWarning)\n",
      "/Users/viviandong/opt/anaconda3/lib/python3.7/site-packages/sklearn/svm/_base.py:977: ConvergenceWarning: Liblinear failed to converge, increase the number of iterations.\n",
      "  \"the number of iterations.\", ConvergenceWarning)\n",
      "/Users/viviandong/opt/anaconda3/lib/python3.7/site-packages/sklearn/svm/_base.py:977: ConvergenceWarning: Liblinear failed to converge, increase the number of iterations.\n",
      "  \"the number of iterations.\", ConvergenceWarning)\n",
      "/Users/viviandong/opt/anaconda3/lib/python3.7/site-packages/sklearn/svm/_base.py:977: ConvergenceWarning: Liblinear failed to converge, increase the number of iterations.\n",
      "  \"the number of iterations.\", ConvergenceWarning)\n"
     ]
    },
    {
     "name": "stdout",
     "output_type": "stream",
     "text": [
      "0.843487404143394 0.0030671064084524476\n"
     ]
    }
   ],
   "source": [
    "from sklearn.feature_selection import SelectFromModel\n",
    "from sklearn.svm import LinearSVC\n",
    "\n",
    "\n",
    "knn_SFM = Pipeline([(\"transformer\", col_transform),\n",
    "                      (\"selector\", SelectFromModel(LinearSVC(C=0.01, penalty=\"l1\", dual=False))),\n",
    "                      (\"classfier\", KNeighborsClassifier()) ])\n",
    "\n",
    "knn_SFM_scores = cross_val_score(knn_SFM, X_train, y_train, cv=k_folds)\n",
    "print(knn_SFM_scores.mean(), knn_SFM_scores.std())"
   ]
  },
  {
   "cell_type": "code",
   "execution_count": 50,
   "metadata": {},
   "outputs": [
    {
     "name": "stdout",
     "output_type": "stream",
     "text": [
      "0.8361126514293807 0.003610829509343398\n"
     ]
    }
   ],
   "source": [
    "rf_k_best = Pipeline([(\"transformer\", col_transform), \n",
    "                         (\"selector\", SelectKBest(f_classif, k=5)),\n",
    "                         (\"classfier\", RandomForestClassifier(random_state=0)) ])\n",
    "\n",
    "rf_k_best_scores = cross_val_score(rf_k_best, X_train, y_train, cv=k_folds)\n",
    "print(rf_k_best_scores.mean(), rf_k_best_scores.std())"
   ]
  },
  {
   "cell_type": "code",
   "execution_count": 51,
   "metadata": {},
   "outputs": [
    {
     "name": "stderr",
     "output_type": "stream",
     "text": [
      "/Users/viviandong/opt/anaconda3/lib/python3.7/site-packages/sklearn/svm/_base.py:977: ConvergenceWarning: Liblinear failed to converge, increase the number of iterations.\n",
      "  \"the number of iterations.\", ConvergenceWarning)\n",
      "/Users/viviandong/opt/anaconda3/lib/python3.7/site-packages/sklearn/svm/_base.py:977: ConvergenceWarning: Liblinear failed to converge, increase the number of iterations.\n",
      "  \"the number of iterations.\", ConvergenceWarning)\n"
     ]
    },
    {
     "name": "stdout",
     "output_type": "stream",
     "text": [
      "0.8546579928105756 0.0014800983917987796\n"
     ]
    }
   ],
   "source": [
    "from sklearn.feature_selection import SelectFromModel\n",
    "from sklearn.svm import LinearSVC\n",
    "\n",
    "\n",
    "rf_SFM = Pipeline([(\"transformer\", col_transform),\n",
    "                      (\"selector\", SelectFromModel(LinearSVC(C=0.01, penalty=\"l1\", dual=False))),\n",
    "                      (\"classfier\", RandomForestClassifier(random_state=0)) ])\n",
    "\n",
    "rf_SFM_scores = cross_val_score(rf_SFM, X_train, y_train, cv=k_folds)\n",
    "print(rf_SFM_scores.mean(), rf_SFM_scores.std())"
   ]
  },
  {
   "cell_type": "markdown",
   "metadata": {},
   "source": [
    "# Parameters tuning"
   ]
  },
  {
   "cell_type": "code",
   "execution_count": 54,
   "metadata": {},
   "outputs": [
    {
     "data": {
      "text/plain": [
       "GridSearchCV(cv=RepeatedStratifiedKFold(n_repeats=3, n_splits=5, random_state=0),\n",
       "             estimator=Pipeline(steps=[('transformer',\n",
       "                                        ColumnTransformer(transformers=[('num',\n",
       "                                                                         Pipeline(steps=[('imputer',\n",
       "                                                                                          SimpleImputer(strategy='median')),\n",
       "                                                                                         ('scaler',\n",
       "                                                                                          StandardScaler())]),\n",
       "                                                                         ['age',\n",
       "                                                                          'family_PIR',\n",
       "                                                                          'sleep_hours',\n",
       "                                                                          'drinks_per_occasion',\n",
       "                                                                          'SMD030',\n",
       "                                                                          'SMD641',\n",
       "                                                                          'SMD650',\n",
       "                                                                          'SMD630',\n",
       "                                                                          'WHD010'...\n",
       "                                                                                          OneHotEncoder())]),\n",
       "                                                                         ['gender',\n",
       "                                                                          'race',\n",
       "                                                                          'marital_status',\n",
       "                                                                          'education_level_adults',\n",
       "                                                                          'language',\n",
       "                                                                          'trouble_sleeping_history',\n",
       "                                                                          'SMQ020',\n",
       "                                                                          'SMQ040',\n",
       "                                                                          'SMQ670',\n",
       "                                                                          'WHQ030',\n",
       "                                                                          'WHQ040',\n",
       "                                                                          'WHQ070'])])),\n",
       "                                       ('classifier', KNeighborsClassifier())]),\n",
       "             n_jobs=-1,\n",
       "             param_grid={'classifier__n_neighbors': array([1, 2, 3, 4, 5, 6, 7, 8, 9]),\n",
       "                         'classifier__weights': ['uniform', 'distance']},\n",
       "             scoring='accuracy')"
      ]
     },
     "execution_count": 54,
     "metadata": {},
     "output_type": "execute_result"
    }
   ],
   "source": [
    "from sklearn.model_selection import GridSearchCV \n",
    "knn_param_grid = {\"classifier__n_neighbors\": np.arange(1, 10), \"classifier__weights\": [\"uniform\", \"distance\"]}\n",
    "knn_grid_cv = GridSearchCV(knn_model, knn_param_grid, scoring=\"accuracy\", n_jobs=-1, cv=k_folds)\n",
    "knn_grid_cv.fit(X_train, y_train)"
   ]
  },
  {
   "cell_type": "code",
   "execution_count": 55,
   "metadata": {},
   "outputs": [
    {
     "data": {
      "text/plain": [
       "{'classifier__n_neighbors': 8, 'classifier__weights': 'uniform'}"
      ]
     },
     "execution_count": 55,
     "metadata": {},
     "output_type": "execute_result"
    }
   ],
   "source": [
    "knn_grid_cv.best_params_"
   ]
  },
  {
   "cell_type": "code",
   "execution_count": 56,
   "metadata": {},
   "outputs": [
    {
     "data": {
      "text/plain": [
       "0.8527512332696323"
      ]
     },
     "execution_count": 56,
     "metadata": {},
     "output_type": "execute_result"
    }
   ],
   "source": [
    "knn_grid_cv.best_score_"
   ]
  },
  {
   "cell_type": "code",
   "execution_count": 57,
   "metadata": {},
   "outputs": [
    {
     "data": {
      "text/plain": [
       "(18531, 55)"
      ]
     },
     "execution_count": 57,
     "metadata": {},
     "output_type": "execute_result"
    }
   ],
   "source": [
    "col_transform.fit_transform(X_train).shape"
   ]
  },
  {
   "cell_type": "code",
   "execution_count": 58,
   "metadata": {},
   "outputs": [],
   "source": [
    "from sklearn.model_selection import RandomizedSearchCV\n",
    "from scipy.stats import randint\n",
    "\n",
    "rf_param_distributions = { \"classifier__n_estimators\": randint(50, 200),\n",
    "                           \"classifier__max_features\": randint(3, 9),\n",
    "                           \"classifier__max_depth\": randint(5, 20),\n",
    "                           \"classifier__min_samples_leaf\": randint(2, 4)}\n",
    "\n",
    "rf_random_search = RandomizedSearchCV(rf_model, rf_param_distributions, n_iter=10, cv=k_folds, scoring=\"accuracy\",\n",
    "                                      return_train_score=True, random_state=0)"
   ]
  },
  {
   "cell_type": "code",
   "execution_count": 59,
   "metadata": {},
   "outputs": [
    {
     "data": {
      "text/plain": [
       "RandomizedSearchCV(cv=RepeatedStratifiedKFold(n_repeats=3, n_splits=5, random_state=0),\n",
       "                   estimator=Pipeline(steps=[('transformer',\n",
       "                                              ColumnTransformer(transformers=[('num',\n",
       "                                                                               Pipeline(steps=[('imputer',\n",
       "                                                                                                SimpleImputer(strategy='median')),\n",
       "                                                                                               ('scaler',\n",
       "                                                                                                StandardScaler())]),\n",
       "                                                                               ['age',\n",
       "                                                                                'family_PIR',\n",
       "                                                                                'sleep_hours',\n",
       "                                                                                'drinks_per_occasion',\n",
       "                                                                                'SMD030',\n",
       "                                                                                'SMD641',\n",
       "                                                                                'SMD650',\n",
       "                                                                                'SMD630',\n",
       "                                                                                'W...\n",
       "                   param_distributions={'classifier__max_depth': <scipy.stats._distn_infrastructure.rv_frozen object at 0x7ff19948b5d0>,\n",
       "                                        'classifier__max_features': <scipy.stats._distn_infrastructure.rv_frozen object at 0x7ff19948bd90>,\n",
       "                                        'classifier__min_samples_leaf': <scipy.stats._distn_infrastructure.rv_frozen object at 0x7ff19948b150>,\n",
       "                                        'classifier__n_estimators': <scipy.stats._distn_infrastructure.rv_frozen object at 0x7ff199496c10>},\n",
       "                   random_state=0, return_train_score=True, scoring='accuracy')"
      ]
     },
     "execution_count": 59,
     "metadata": {},
     "output_type": "execute_result"
    }
   ],
   "source": [
    "rf_random_search.fit(X_train, y_train)"
   ]
  },
  {
   "cell_type": "code",
   "execution_count": 60,
   "metadata": {},
   "outputs": [
    {
     "data": {
      "text/plain": [
       "{'classifier__max_depth': 17,\n",
       " 'classifier__max_features': 8,\n",
       " 'classifier__min_samples_leaf': 2,\n",
       " 'classifier__n_estimators': 117}"
      ]
     },
     "execution_count": 60,
     "metadata": {},
     "output_type": "execute_result"
    }
   ],
   "source": [
    "rf_random_search.best_params_"
   ]
  },
  {
   "cell_type": "code",
   "execution_count": 61,
   "metadata": {},
   "outputs": [
    {
     "data": {
      "text/plain": [
       "0.8552515907900793"
      ]
     },
     "execution_count": 61,
     "metadata": {},
     "output_type": "execute_result"
    }
   ],
   "source": [
    "rf_random_search.best_score_"
   ]
  },
  {
   "cell_type": "markdown",
   "metadata": {},
   "source": [
    "## Ensemble Learning"
   ]
  },
  {
   "cell_type": "code",
   "execution_count": 62,
   "metadata": {},
   "outputs": [
    {
     "data": {
      "text/plain": [
       "{'classifier__n_neighbors': 8, 'classifier__weights': 'uniform'}"
      ]
     },
     "execution_count": 62,
     "metadata": {},
     "output_type": "execute_result"
    }
   ],
   "source": [
    "knn_grid_cv.best_params_"
   ]
  },
  {
   "cell_type": "code",
   "execution_count": 63,
   "metadata": {},
   "outputs": [
    {
     "data": {
      "text/plain": [
       "{'classifier__max_depth': 17,\n",
       " 'classifier__max_features': 8,\n",
       " 'classifier__min_samples_leaf': 2,\n",
       " 'classifier__n_estimators': 117}"
      ]
     },
     "execution_count": 63,
     "metadata": {},
     "output_type": "execute_result"
    }
   ],
   "source": [
    "rf_random_search.best_params_"
   ]
  },
  {
   "cell_type": "code",
   "execution_count": 64,
   "metadata": {},
   "outputs": [],
   "source": [
    "from sklearn.ensemble import VotingClassifier\n",
    "best_n_neighbors = knn_grid_cv.best_params_['classifier__n_neighbors']\n",
    "best_weights = knn_grid_cv.best_params_['classifier__weights']\n",
    "best_max_depth = rf_random_search.best_params_['classifier__max_depth']\n",
    "best_max_features = rf_random_search.best_params_['classifier__max_features']\n",
    "best_min_samples_leaf = rf_random_search.best_params_['classifier__min_samples_leaf']\n",
    "best_n_estimators = rf_random_search.best_params_['classifier__n_estimators']"
   ]
  },
  {
   "cell_type": "code",
   "execution_count": 65,
   "metadata": {},
   "outputs": [],
   "source": [
    "voting_model = VotingClassifier(\n",
    "    estimators=[\n",
    "        (\"knn\", Pipeline([(\"transformer\", col_transform),\n",
    "                          (\"classifier\", KNeighborsClassifier(n_neighbors=best_n_neighbors, weights=best_weights))])),\n",
    "        (\"rf\", Pipeline([(\"transformer\", col_transform),\n",
    "                         (\"classifier\", RandomForestClassifier(random_state=0,max_depth=best_max_depth, max_features=best_max_features,\n",
    "                                                               min_samples_leaf=best_min_samples_leaf, n_estimators=best_n_estimators))]))\n",
    "    ],\n",
    "    voting=\"soft\"    \n",
    ")"
   ]
  },
  {
   "cell_type": "code",
   "execution_count": 66,
   "metadata": {},
   "outputs": [
    {
     "name": "stdout",
     "output_type": "stream",
     "text": [
      "0.8538664495776308 0.0014246715740469733\n"
     ]
    }
   ],
   "source": [
    "voting_scores = cross_val_score(voting_model, X_train, y_train, cv=k_folds)\n",
    "print(voting_scores.mean(), voting_scores.std())"
   ]
  },
  {
   "cell_type": "code",
   "execution_count": 67,
   "metadata": {},
   "outputs": [
    {
     "data": {
      "text/plain": [
       "VotingClassifier(estimators=[('knn',\n",
       "                              Pipeline(steps=[('transformer',\n",
       "                                               ColumnTransformer(transformers=[('num',\n",
       "                                                                                Pipeline(steps=[('imputer',\n",
       "                                                                                                 SimpleImputer(strategy='median')),\n",
       "                                                                                                ('scaler',\n",
       "                                                                                                 StandardScaler())]),\n",
       "                                                                                ['age',\n",
       "                                                                                 'family_PIR',\n",
       "                                                                                 'sleep_hours',\n",
       "                                                                                 'drinks_per_occasion',\n",
       "                                                                                 'SMD030',\n",
       "                                                                                 'SMD641',\n",
       "                                                                                 'SMD650',\n",
       "                                                                                 'SMD630',\n",
       "                                                                                 'WHD010',\n",
       "                                                                                 'WHD020',\n",
       "                                                                                 'WHD050',\n",
       "                                                                                 'WHD110',\n",
       "                                                                                 'WHD120',\n",
       "                                                                                 'WHD140',\n",
       "                                                                                 'WHQ150...\n",
       "                                                                                                 SimpleImputer(strategy='most_frequent')),\n",
       "                                                                                                ('onehot',\n",
       "                                                                                                 OneHotEncoder())]),\n",
       "                                                                                ['gender',\n",
       "                                                                                 'race',\n",
       "                                                                                 'marital_status',\n",
       "                                                                                 'education_level_adults',\n",
       "                                                                                 'language',\n",
       "                                                                                 'trouble_sleeping_history',\n",
       "                                                                                 'SMQ020',\n",
       "                                                                                 'SMQ040',\n",
       "                                                                                 'SMQ670',\n",
       "                                                                                 'WHQ030',\n",
       "                                                                                 'WHQ040',\n",
       "                                                                                 'WHQ070'])])),\n",
       "                                              ('classifier',\n",
       "                                               RandomForestClassifier(max_depth=17,\n",
       "                                                                      max_features=8,\n",
       "                                                                      min_samples_leaf=2,\n",
       "                                                                      n_estimators=117,\n",
       "                                                                      random_state=0))]))],\n",
       "                 voting='soft')"
      ]
     },
     "execution_count": 67,
     "metadata": {},
     "output_type": "execute_result"
    }
   ],
   "source": [
    "voting_model.fit(X_train, y_train)"
   ]
  },
  {
   "cell_type": "markdown",
   "metadata": {},
   "source": [
    "# Making Predictions"
   ]
  },
  {
   "cell_type": "code",
   "execution_count": 68,
   "metadata": {},
   "outputs": [],
   "source": [
    "from sklearn.metrics import accuracy_score\n",
    "def testModel(model, name=\"\"):\n",
    "    y_test_predicted = model.predict(X_test)\n",
    "    print(name, \"- Test accuracy:\", accuracy_score(y_test, y_test_predicted))"
   ]
  },
  {
   "cell_type": "code",
   "execution_count": 70,
   "metadata": {},
   "outputs": [
    {
     "data": {
      "text/plain": [
       "Pipeline(steps=[('transformer',\n",
       "                 ColumnTransformer(transformers=[('num',\n",
       "                                                  Pipeline(steps=[('imputer',\n",
       "                                                                   SimpleImputer(strategy='median')),\n",
       "                                                                  ('scaler',\n",
       "                                                                   StandardScaler())]),\n",
       "                                                  ['age', 'family_PIR',\n",
       "                                                   'sleep_hours',\n",
       "                                                   'drinks_per_occasion',\n",
       "                                                   'SMD030', 'SMD641', 'SMD650',\n",
       "                                                   'SMD630', 'WHD010', 'WHD020',\n",
       "                                                   'WHD050', 'WHD110', 'WHD120',\n",
       "                                                   'WHD140', 'WHQ150']),\n",
       "                                                 ('cat',\n",
       "                                                  Pipeline(steps=[('imputer',\n",
       "                                                                   SimpleImputer(strategy='most_frequent')),\n",
       "                                                                  ('onehot',\n",
       "                                                                   OneHotEncoder())]),\n",
       "                                                  ['gender', 'race',\n",
       "                                                   'marital_status',\n",
       "                                                   'education_level_adults',\n",
       "                                                   'language',\n",
       "                                                   'trouble_sleeping_history',\n",
       "                                                   'SMQ020', 'SMQ040', 'SMQ670',\n",
       "                                                   'WHQ030', 'WHQ040',\n",
       "                                                   'WHQ070'])])),\n",
       "                ('classifier', RandomForestClassifier(random_state=0))])"
      ]
     },
     "execution_count": 70,
     "metadata": {},
     "output_type": "execute_result"
    }
   ],
   "source": [
    "knn_model.fit(X_train, y_train)\n",
    "rf_model.fit(X_train, y_train)"
   ]
  },
  {
   "cell_type": "code",
   "execution_count": 71,
   "metadata": {},
   "outputs": [
    {
     "name": "stdout",
     "output_type": "stream",
     "text": [
      "k-NN - Test accuracy: 0.8465122135482246\n",
      "RF - Test accuracy: 0.8560815915386553\n",
      "k-NN-tuned - Test accuracy: 0.8552002014605893\n",
      "RF-tuned - Test accuracy: 0.8564593301435407\n",
      "Ensemble - Test accuracy: 0.8565852430118358\n"
     ]
    }
   ],
   "source": [
    "testModel(knn_model, \"k-NN\")\n",
    "testModel(rf_model, \"RF\")\n",
    "testModel(knn_grid_cv, \"k-NN-tuned\")\n",
    "testModel(rf_random_search, \"RF-tuned\")\n",
    "testModel(voting_model, \"Ensemble\")"
   ]
  }
 ],
 "metadata": {
  "kernelspec": {
   "display_name": "Python 3.7.6 ('base')",
   "language": "python",
   "name": "python3"
  },
  "language_info": {
   "codemirror_mode": {
    "name": "ipython",
    "version": 3
   },
   "file_extension": ".py",
   "mimetype": "text/x-python",
   "name": "python",
   "nbconvert_exporter": "python",
   "pygments_lexer": "ipython3",
   "version": "3.7.6"
  },
  "orig_nbformat": 4,
  "vscode": {
   "interpreter": {
    "hash": "f7513e87bbb31ec4afde31f232423b8430776ade768c87798b2ceadac78ade7f"
   }
  }
 },
 "nbformat": 4,
 "nbformat_minor": 2
}
