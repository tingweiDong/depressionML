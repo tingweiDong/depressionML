{
 "cells": [
  {
   "cell_type": "code",
   "execution_count": 1,
   "metadata": {},
   "outputs": [],
   "source": [
    "import pandas as pd \n",
    "import numpy as np\n",
    "import seaborn as sns\n",
    "\n",
    "%matplotlib inline\n",
    "import matplotlib as mpl \n",
    "import matplotlib.pyplot as plt\n",
    "\n",
    "from sklearn.model_selection import train_test_split \n",
    "from sklearn.metrics import roc_curve\n",
    "from numpy import sqrt\n",
    "from numpy import argmax"
   ]
  },
  {
   "cell_type": "code",
   "execution_count": 2,
   "metadata": {},
   "outputs": [],
   "source": [
    "df = pd.read_csv(\"../Data/project_data.csv\")\n",
    "\n",
    "# Dropping redundant features\n",
    "df = df.iloc[: , 1:]"
   ]
  },
  {
   "cell_type": "code",
   "execution_count": 3,
   "metadata": {},
   "outputs": [],
   "source": [
    "df['result'] = df.result.astype(object)\n",
    "df['gender'] = df.gender.astype(object)\n",
    "df['race'] = df.race.astype(object)\n",
    "df['marital_status'] = df.marital_status.astype(object)\n",
    "df['education_level_adults'] = df.education_level_adults.astype(object)\n",
    "\n",
    "df['language'] = df.language.astype(object)\n",
    "df['trouble_sleeping_history'] = df.trouble_sleeping_history.astype(object)\n",
    "df['SMQ020'] = df.SMQ020.astype(object)\n",
    "df['SMQ040'] = df.SMQ040.astype(object)\n",
    "df['SMQ670'] = df.SMQ670.astype(object)\n",
    "df['WHQ030'] = df.WHQ030.astype(object)\n",
    "\n",
    "\n",
    "df['WHQ040'] = df.WHQ040.astype(object)\n",
    "df['WHQ070'] = df.WHQ070.astype(object)"
   ]
  },
  {
   "cell_type": "code",
   "execution_count": 4,
   "metadata": {},
   "outputs": [],
   "source": [
    "train_set, test_set = train_test_split(df, test_size=0.3, random_state=0, stratify=df[\"result\"])"
   ]
  },
  {
   "cell_type": "code",
   "execution_count": 5,
   "metadata": {},
   "outputs": [
    {
     "data": {
      "text/plain": [
       "0    0.854514\n",
       "1    0.145486\n",
       "Name: result, dtype: float64"
      ]
     },
     "execution_count": 5,
     "metadata": {},
     "output_type": "execute_result"
    }
   ],
   "source": [
    "train_set[\"result\"].value_counts() / len(train_set)"
   ]
  },
  {
   "cell_type": "code",
   "execution_count": null,
   "metadata": {},
   "outputs": [],
   "source": []
  }
 ],
 "metadata": {
  "kernelspec": {
   "display_name": "Python 3.7.6 ('base')",
   "language": "python",
   "name": "python3"
  },
  "language_info": {
   "codemirror_mode": {
    "name": "ipython",
    "version": 3
   },
   "file_extension": ".py",
   "mimetype": "text/x-python",
   "name": "python",
   "nbconvert_exporter": "python",
   "pygments_lexer": "ipython3",
   "version": "3.7.6"
  },
  "orig_nbformat": 4,
  "vscode": {
   "interpreter": {
    "hash": "f7513e87bbb31ec4afde31f232423b8430776ade768c87798b2ceadac78ade7f"
   }
  }
 },
 "nbformat": 4,
 "nbformat_minor": 2
}
